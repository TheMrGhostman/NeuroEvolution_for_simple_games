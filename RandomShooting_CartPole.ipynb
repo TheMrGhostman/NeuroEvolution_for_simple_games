{
  "nbformat": 4,
  "nbformat_minor": 0,
  "metadata": {
    "colab": {
      "name": "RandomShooting_CartPole.ipynb",
      "provenance": [],
      "authorship_tag": "ABX9TyMbcQ5X+vpLpztU6KIvnYDX",
      "include_colab_link": true
    },
    "kernelspec": {
      "name": "python3",
      "display_name": "Python 3"
    }
  },
  "cells": [
    {
      "cell_type": "markdown",
      "metadata": {
        "id": "view-in-github",
        "colab_type": "text"
      },
      "source": [
        "<a href=\"https://colab.research.google.com/github/TheMrGhostman/NeuroEvolution_for_simple_games/blob/master/RandomShooting_CartPole.ipynb\" target=\"_parent\"><img src=\"https://colab.research.google.com/assets/colab-badge.svg\" alt=\"Open In Colab\"/></a>"
      ]
    },
    {
      "cell_type": "code",
      "metadata": {
        "id": "-xPd4jkNopCa",
        "colab_type": "code",
        "colab": {}
      },
      "source": [
        "import numpy as np\n",
        "import torch\n",
        "import torch.nn as nn\n",
        "import torch.nn.functional as F\n",
        "from collections import OrderedDict\n",
        "import random\n",
        "from copy import copy\n",
        "import matplotlib.pyplot as plt\n",
        "from tqdm import tqdm\n",
        "import pandas as pd\n",
        "import gym"
      ],
      "execution_count": 0,
      "outputs": []
    },
    {
      "cell_type": "markdown",
      "metadata": {
        "id": "dE0IxA42rjo_",
        "colab_type": "text"
      },
      "source": [
        "## Most of th code is refactored from Neuroevolution"
      ]
    },
    {
      "cell_type": "code",
      "metadata": {
        "id": "-6dCgLIhowVs",
        "colab_type": "code",
        "colab": {}
      },
      "source": [
        "class Net(nn.Module):\n",
        "    def __init__(self, in_,  out_, activation=nn.Tanh()):\n",
        "        super(Net, self).__init__()\n",
        "        self.in_ = in_\n",
        "        self.out_ = out_\n",
        "        self.module_list = [in_, 160,160,160, out_]\n",
        "        self.model = self.setup_model(activation)\n",
        "        self.n_weights = self.sum_parameters(self.model)\n",
        "\n",
        "    @staticmethod\n",
        "    def sum_parameters(model):\n",
        "        def prod(array):\n",
        "            array = np.array(array)\n",
        "            return array.prod()\n",
        "        n_params = 0\n",
        "        for param in model.parameters():\n",
        "            n_params += prod(param.shape)\n",
        "        return n_params\n",
        "    \n",
        "    def setup_model(self, activation):\n",
        "        od = {}\n",
        "        for i in range(len(self.module_list)-1):\n",
        "            od[f\"layer_{i}\"] = nn.Linear(self.module_list[i], self.module_list[i+1], bias=False)\n",
        "            if i!=len(self.module_list)-2:\n",
        "                od[f\"activation_{i}\"] = activation\n",
        "        model = nn.Sequential(OrderedDict(od))\n",
        "        for params in model.parameters():\n",
        "            params.requires_grad=False\n",
        "        return model\n",
        "\n",
        "    def forward(self, x, out_activation=\"softmax\"):\n",
        "        return self.model(x)"
      ],
      "execution_count": 0,
      "outputs": []
    },
    {
      "cell_type": "code",
      "metadata": {
        "id": "RBo_cHYWriR7",
        "colab_type": "code",
        "colab": {}
      },
      "source": [
        "class Agent(object):\n",
        "    def __init__(self, state_space, action_space):\n",
        "        self.state_space = state_space\n",
        "        self.action_space = action_space\n",
        "        self.brain = Net(in_=state_space, out_=action_space)\n",
        "        self.n_genes = self.brain.n_weights\n",
        "        # agents memory\n",
        "        self.reached_score = 0\n",
        "        self.new_state = None\n",
        "        self.done = False\n",
        "\n",
        "\n",
        "    def act(self, state):\n",
        "        predicted_action = torch.sigmoid(self.brain(state))\n",
        "        return predicted_action\n",
        "    \n",
        "    def act_from_memory(self, argmax=False):\n",
        "        if argmax:\n",
        "            return torch.argmax(self.brain(torch.tensor(self.new_state).float()))\n",
        "        else:\n",
        "            return torch.sigmoid(self.brain(torch.tensor(self.new_state).float()))\n",
        "\n",
        "    def update_agent(self, NsRD_):\n",
        "        self.new_state = NsRD_[0]\n",
        "        self.reached_score += NsRD_[1]\n",
        "        self.done = NsRD_[2]\n",
        "\n",
        "    def get_gene(self):\n",
        "        def prod(array):\n",
        "            array = np.array(array)\n",
        "            return array.prod()\n",
        "        gene = []\n",
        "        config_size = []\n",
        "        config_idx = []\n",
        "        for param in self.brain.parameters():\n",
        "            pr = int(self.prod(param.shape))\n",
        "            config_size.append(param.shape)\n",
        "            config_idx.append(pr)\n",
        "            gene.append(param.view(pr))\n",
        "        config_idx = np.cumsum(config_idx)\n",
        "        config = [(size, idx) for size, idx in zip(config_size, config_idx)]\n",
        "        gene = torch.cat(gene)\n",
        "        return gene, config\n",
        "\n",
        "    def set_gene(self, gene, config):\n",
        "        config.insert(0, (0, 0))\n",
        "        for i, param in enumerate(self.brain.parameters()):\n",
        "            param = gene[config[i][1]:config[i+1][1]].view(config[i+1][0])\n",
        "        return self\n"
      ],
      "execution_count": 0,
      "outputs": []
    },
    {
      "cell_type": "code",
      "metadata": {
        "id": "Ei4qHrJEo6OY",
        "colab_type": "code",
        "colab": {}
      },
      "source": [
        "class Population(object):\n",
        "    def __init__(self, n_agents, state_space, action_space):\n",
        "        \"\"\"\n",
        "        m_agents should be divisible with 2 without remainder \n",
        "        \"\"\"\n",
        "        self.n_agents = n_agents\n",
        "        self.state_space = state_space\n",
        "        self.action_space = action_space\n",
        "        self.population = self.create_population(n_agents, state_space, action_space)\n",
        "        self.scores_per_generation = {\"min\":[], \"max\":[], \"score\":[], \"mean\":[], \"std\":[]}\n",
        "\n",
        "    @staticmethod\n",
        "    def create_population(n_agents, state_space, action_space):\n",
        "        pop = []\n",
        "        for i in range(n_agents):\n",
        "            pop.append(Agent(state_space=state_space, action_space=action_space))\n",
        "        return pop\n",
        "\n",
        "    def evaluation_loop(self, envs, n_generations, repeats=3, use_argmax=True, replace=False):\n",
        "        for generation in tqdm(range(n_generations)):\n",
        "            scores = []\n",
        "            # reset\n",
        "            for i in range(repeats):\n",
        "                for agent, env in zip(self.population, envs):\n",
        "                    # reset enviroment\n",
        "                    agent.new_state = env.reset()\n",
        "                    # reset reached score\n",
        "                    agent.reached_score = 0\n",
        "                    agent.done=False\n",
        "                \n",
        "                # evaluation fitness function\n",
        "                for s in range(500):\n",
        "                    for agent, env in zip(self.population, envs):\n",
        "                        if agent.done:\n",
        "                            continue\n",
        "                        else:\n",
        "                            # argmax\n",
        "                            act = np.array(agent.act_from_memory(argmax=use_argmax))\n",
        "                            agent.update_agent(env.step(act))\n",
        "                # appending score\n",
        "                scores.append(np.array([agent.reached_score for agent in self.population]))\n",
        "\n",
        "            # complete evaluation in generation\n",
        "            scores = np.vstack(scores).mean(axis=0) # mean score of through repeats\n",
        "            # loging results\n",
        "            self.scores_per_generation[\"min\"].append(np.min(scores))\n",
        "            self.scores_per_generation[\"max\"].append(np.max(scores))\n",
        "            self.scores_per_generation[\"score\"].append(scores)\n",
        "            self.scores_per_generation[\"mean\"].append(np.mean(scores))\n",
        "            self.scores_per_generation[\"std\"].append(np.std(scores))\n",
        "                \n",
        "            # i want to return last evaluated generation\n",
        "            if generation==n_generations-1:\n",
        "                break\n",
        "            else:\n",
        "                self.population = self.create_population(self.n_agents, self.state_space, self.action_space)\n",
        "        return self"
      ],
      "execution_count": 0,
      "outputs": []
    },
    {
      "cell_type": "markdown",
      "metadata": {
        "id": "AmGQ3if_rxZS",
        "colab_type": "text"
      },
      "source": [
        "# Evaluation loop"
      ]
    },
    {
      "cell_type": "code",
      "metadata": {
        "id": "ew3daSZkpfR6",
        "colab_type": "code",
        "colab": {}
      },
      "source": [
        "POPULATION = 2000\n",
        "GENERATIONS = 10\n",
        "REPEATS=3"
      ],
      "execution_count": 0,
      "outputs": []
    },
    {
      "cell_type": "code",
      "metadata": {
        "id": "58LAJO_XpfVE",
        "colab_type": "code",
        "colab": {}
      },
      "source": [
        "multi_enviroment = [gym.make(\"CartPole-v1\") for i in range(POPULATION)]\n",
        "\n",
        "STATE_SPACE = multi_enviroment[0].observation_space.shape[0]\n",
        "ACTION_SPACE = multi_enviroment[0].action_space.n"
      ],
      "execution_count": 0,
      "outputs": []
    },
    {
      "cell_type": "code",
      "metadata": {
        "id": "fnybdRXZr4rh",
        "colab_type": "code",
        "colab": {}
      },
      "source": [
        "pop = Population(POPULATION, STATE_SPACE, ACTION_SPACE)"
      ],
      "execution_count": 0,
      "outputs": []
    },
    {
      "cell_type": "code",
      "metadata": {
        "id": "Irn_AGPar4uF",
        "colab_type": "code",
        "outputId": "3ec928cb-a32f-4154-f38c-85af497f5fbe",
        "colab": {
          "base_uri": "https://localhost:8080/",
          "height": 374
        }
      },
      "source": [
        "pop.evaluation_loop(\n",
        "    envs=multi_enviroment, \n",
        "    n_generations=GENERATIONS,  \n",
        "    repeats=REPEATS, \n",
        "    use_argmax=True, \n",
        "    replace=False)"
      ],
      "execution_count": 18,
      "outputs": [
        {
          "output_type": "stream",
          "text": [
            "\n",
            "\n",
            "  0%|          | 0/10 [00:00<?, ?it/s]\u001b[A\u001b[A\n",
            "\n",
            " 10%|█         | 1/10 [01:51<16:44, 111.65s/it]\u001b[A\u001b[A\n",
            "\n",
            " 20%|██        | 2/10 [03:37<14:39, 109.89s/it]\u001b[A\u001b[A\n",
            "\n",
            " 30%|███       | 3/10 [05:23<12:40, 108.68s/it]\u001b[A\u001b[A\n",
            "\n",
            " 40%|████      | 4/10 [07:06<10:41, 106.96s/it]\u001b[A\u001b[A\n",
            "\n",
            " 50%|█████     | 5/10 [09:00<09:05, 109.11s/it]\u001b[A\u001b[A\n",
            "\n",
            " 60%|██████    | 6/10 [10:51<07:19, 109.81s/it]\u001b[A\u001b[A\n",
            "\n",
            " 70%|███████   | 7/10 [12:46<05:33, 111.27s/it]\u001b[A\u001b[A\n",
            "\n",
            " 80%|████████  | 8/10 [14:34<03:40, 110.21s/it]\u001b[A\u001b[A\n",
            "\n",
            " 90%|█████████ | 9/10 [16:25<01:50, 110.40s/it]\u001b[A\u001b[A"
          ],
          "name": "stderr"
        },
        {
          "output_type": "execute_result",
          "data": {
            "text/plain": [
              "<__main__.Population at 0x7f7d41f14fd0>"
            ]
          },
          "metadata": {
            "tags": []
          },
          "execution_count": 18
        }
      ]
    },
    {
      "cell_type": "code",
      "metadata": {
        "id": "RG08IqLVG5w1",
        "colab_type": "code",
        "colab": {}
      },
      "source": [
        "score_all = np.hstack(pop.scores_per_generation[\"score\"])"
      ],
      "execution_count": 0,
      "outputs": []
    },
    {
      "cell_type": "markdown",
      "metadata": {
        "id": "fmulFKwWIqKU",
        "colab_type": "text"
      },
      "source": [
        "# Statistics"
      ]
    },
    {
      "cell_type": "code",
      "metadata": {
        "id": "KbRL-zFKtu7W",
        "colab_type": "code",
        "colab": {
          "base_uri": "https://localhost:8080/",
          "height": 265
        },
        "outputId": "7a1c6df5-d9a7-4adf-e4b3-a9805fc5fa79"
      },
      "source": [
        "plt.figure()\n",
        "plt.hist(score_all)\n",
        "plt.show()"
      ],
      "execution_count": 33,
      "outputs": [
        {
          "output_type": "display_data",
          "data": {
            "image/png": "[encoded data removed]",
            "text/plain": [
              "<Figure size 432x288 with 1 Axes>"
            ]
          },
          "metadata": {
            "tags": [],
            "needs_background": "light"
          }
        }
      ]
    },
    {
      "cell_type": "code",
      "metadata": {
        "id": "qidetO02Ktei",
        "colab_type": "code",
        "colab": {
          "base_uri": "https://localhost:8080/",
          "height": 282
        },
        "outputId": "d78b647c-af85-4480-83bf-277e0a062aac"
      },
      "source": [
        "plt.bar(np.arange(10), np.mean(pop.scores_per_generation[\"score\"], axis=1))"
      ],
      "execution_count": 51,
      "outputs": [
        {
          "output_type": "execute_result",
          "data": {
            "text/plain": [
              "<BarContainer object of 10 artists>"
            ]
          },
          "metadata": {
            "tags": []
          },
          "execution_count": 51
        },
        {
          "output_type": "display_data",
          "data": {
            "image/png": "[encoded data removed]",
            "text/plain": [
              "<Figure size 432x288 with 1 Axes>"
            ]
          },
          "metadata": {
            "tags": [],
            "needs_background": "light"
          }
        }
      ]
    },
    {
      "cell_type": "code",
      "metadata": {
        "id": "KixaBBnwGYPF",
        "colab_type": "code",
        "colab": {
          "base_uri": "https://localhost:8080/",
          "height": 34
        },
        "outputId": "158b3203-8641-4cbf-f1af-12e271a4533c"
      },
      "source": [
        "rel_tot = np.argwhere(score_all >300).squeeze().shape[0]/score_all.shape[0] #reliability total\n",
        "rel_tot"
      ],
      "execution_count": 75,
      "outputs": [
        {
          "output_type": "execute_result",
          "data": {
            "text/plain": [
              "0.04545"
            ]
          },
          "metadata": {
            "tags": []
          },
          "execution_count": 75
        }
      ]
    },
    {
      "cell_type": "code",
      "metadata": {
        "id": "qHLsaowrLC7D",
        "colab_type": "code",
        "colab": {
          "base_uri": "https://localhost:8080/",
          "height": 51
        },
        "outputId": "f7f3a1b6-f6c3-44f2-9d78-a6dba3753c77"
      },
      "source": [
        "rel_per_gen = np.array([np.argwhere(np.argwhere(np.array(pop.scores_per_generation[\"score\"])>300)[:,0]==i).shape[0] for i in range(0,10)])/pop.n_agents\n",
        "rel_per_gen"
      ],
      "execution_count": 70,
      "outputs": [
        {
          "output_type": "execute_result",
          "data": {
            "text/plain": [
              "array([0.047 , 0.038 , 0.0415, 0.0415, 0.0525, 0.048 , 0.051 , 0.04  ,\n",
              "       0.0455, 0.0495])"
            ]
          },
          "metadata": {
            "tags": []
          },
          "execution_count": 70
        }
      ]
    },
    {
      "cell_type": "code",
      "metadata": {
        "id": "rq77uXNEHDQt",
        "colab_type": "code",
        "colab": {
          "base_uri": "https://localhost:8080/",
          "height": 282
        },
        "outputId": "43e41b9c-a43c-463d-b18c-e3ae903666f7"
      },
      "source": [
        "plt.bar(np.arange(10), pop.scores_per_generation[\"mean\"])"
      ],
      "execution_count": 44,
      "outputs": [
        {
          "output_type": "execute_result",
          "data": {
            "text/plain": [
              "<BarContainer object of 10 artists>"
            ]
          },
          "metadata": {
            "tags": []
          },
          "execution_count": 44
        },
        {
          "output_type": "display_data",
          "data": {
            "image/png": "[encoded data removed]",
            "text/plain": [
              "<Figure size 432x288 with 1 Axes>"
            ]
          },
          "metadata": {
            "tags": [],
            "needs_background": "light"
          }
        }
      ]
    },
    {
      "cell_type": "code",
      "metadata": {
        "id": "FJFbgCIkJOr1",
        "colab_type": "code",
        "colab": {
          "base_uri": "https://localhost:8080/",
          "height": 34
        },
        "outputId": "20190d3d-e4f4-4925-bffa-52681f5319ea"
      },
      "source": [
        "mne_tot = np.mean(score_all[score_all>300]) # Mean Number of objective function Evaluations\n",
        "mne_tot"
      ],
      "execution_count": 72,
      "outputs": [
        {
          "output_type": "execute_result",
          "data": {
            "text/plain": [
              "429.1903190319032"
            ]
          },
          "metadata": {
            "tags": []
          },
          "execution_count": 72
        }
      ]
    },
    {
      "cell_type": "code",
      "metadata": {
        "id": "DFzIe599PbCp",
        "colab_type": "code",
        "colab": {
          "base_uri": "https://localhost:8080/",
          "height": 68
        },
        "outputId": "4390d75e-67b5-4d7b-d6d6-dce983986143"
      },
      "source": [
        "mne_per_gen = np.array([np.mean(np.array(pop.scores_per_generation[\"score\"])[i, np.array(pop.scores_per_generation[\"score\"])[i,:]>300]) for i in range(0,10)])\n",
        "mne_per_gen"
      ],
      "execution_count": 96,
      "outputs": [
        {
          "output_type": "execute_result",
          "data": {
            "text/plain": [
              "array([434.9964539 , 432.46929825, 430.17269076, 434.25702811,\n",
              "       423.95238095, 415.97916667, 423.5       , 433.17083333,\n",
              "       431.17216117, 435.27946128])"
            ]
          },
          "metadata": {
            "tags": []
          },
          "execution_count": 96
        }
      ]
    },
    {
      "cell_type": "code",
      "metadata": {
        "id": "rbQjvGQbJZPs",
        "colab_type": "code",
        "colab": {
          "base_uri": "https://localhost:8080/",
          "height": 34
        },
        "outputId": "c24717ff-8d29-4053-adde-7b2efd34d5d5"
      },
      "source": [
        "feo_tot = mne_tot/rel_tot# Feoktistov criterion: $FEO = MNE/REL$\n",
        "feo_tot"
      ],
      "execution_count": 97,
      "outputs": [
        {
          "output_type": "execute_result",
          "data": {
            "text/plain": [
              "9443.131331835055"
            ]
          },
          "metadata": {
            "tags": []
          },
          "execution_count": 97
        }
      ]
    },
    {
      "cell_type": "code",
      "metadata": {
        "id": "PFroFXCdKBBI",
        "colab_type": "code",
        "colab": {
          "base_uri": "https://localhost:8080/",
          "height": 68
        },
        "outputId": "ed04422a-42bc-4671-8cb3-35b2f830a461"
      },
      "source": [
        "feo_per_gen = mne_per_gen/rel_per_gen# Feoktistov criterion: $FEO = MNE/REL$\n",
        "feo_per_gen"
      ],
      "execution_count": 98,
      "outputs": [
        {
          "output_type": "execute_result",
          "data": {
            "text/plain": [
              "array([ 9255.24370002, 11380.77100646, 10365.60700634, 10464.02477379,\n",
              "        8075.28344671,  8666.23263889,  8303.92156863, 10829.27083333,\n",
              "        9476.31123455,  8793.52447029])"
            ]
          },
          "metadata": {
            "tags": []
          },
          "execution_count": 98
        }
      ]
    },
    {
      "cell_type": "code",
      "metadata": {
        "id": "SFUBWrA3RzEq",
        "colab_type": "code",
        "colab": {
          "base_uri": "https://localhost:8080/",
          "height": 359
        },
        "outputId": "a0b7082a-1846-48e2-f571-14da6ad5d34e"
      },
      "source": [
        "df= pd.DataFrame({\"rel_per_gen\":rel_per_gen, \"mne_per_gen\":mne_per_gen, \"feo_per_gen\":feo_per_gen})\n",
        "df"
      ],
      "execution_count": 100,
      "outputs": [
        {
          "output_type": "execute_result",
          "data": {
            "text/html": [
              "<div>\n",
              "<style scoped>\n",
              "    .dataframe tbody tr th:only-of-type {\n",
              "        vertical-align: middle;\n",
              "    }\n",
              "\n",
              "    .dataframe tbody tr th {\n",
              "        vertical-align: top;\n",
              "    }\n",
              "\n",
              "    .dataframe thead th {\n",
              "        text-align: right;\n",
              "    }\n",
              "</style>\n",
              "<table border=\"1\" class=\"dataframe\">\n",
              "  <thead>\n",
              "    <tr style=\"text-align: right;\">\n",
              "      <th></th>\n",
              "      <th>rel_per_gen</th>\n",
              "      <th>mne_per_gen</th>\n",
              "      <th>feo_per_gen</th>\n",
              "    </tr>\n",
              "  </thead>\n",
              "  <tbody>\n",
              "    <tr>\n",
              "      <th>0</th>\n",
              "      <td>0.0470</td>\n",
              "      <td>434.996454</td>\n",
              "      <td>9255.243700</td>\n",
              "    </tr>\n",
              "    <tr>\n",
              "      <th>1</th>\n",
              "      <td>0.0380</td>\n",
              "      <td>432.469298</td>\n",
              "      <td>11380.771006</td>\n",
              "    </tr>\n",
              "    <tr>\n",
              "      <th>2</th>\n",
              "      <td>0.0415</td>\n",
              "      <td>430.172691</td>\n",
              "      <td>10365.607006</td>\n",
              "    </tr>\n",
              "    <tr>\n",
              "      <th>3</th>\n",
              "      <td>0.0415</td>\n",
              "      <td>434.257028</td>\n",
              "      <td>10464.024774</td>\n",
              "    </tr>\n",
              "    <tr>\n",
              "      <th>4</th>\n",
              "      <td>0.0525</td>\n",
              "      <td>423.952381</td>\n",
              "      <td>8075.283447</td>\n",
              "    </tr>\n",
              "    <tr>\n",
              "      <th>5</th>\n",
              "      <td>0.0480</td>\n",
              "      <td>415.979167</td>\n",
              "      <td>8666.232639</td>\n",
              "    </tr>\n",
              "    <tr>\n",
              "      <th>6</th>\n",
              "      <td>0.0510</td>\n",
              "      <td>423.500000</td>\n",
              "      <td>8303.921569</td>\n",
              "    </tr>\n",
              "    <tr>\n",
              "      <th>7</th>\n",
              "      <td>0.0400</td>\n",
              "      <td>433.170833</td>\n",
              "      <td>10829.270833</td>\n",
              "    </tr>\n",
              "    <tr>\n",
              "      <th>8</th>\n",
              "      <td>0.0455</td>\n",
              "      <td>431.172161</td>\n",
              "      <td>9476.311235</td>\n",
              "    </tr>\n",
              "    <tr>\n",
              "      <th>9</th>\n",
              "      <td>0.0495</td>\n",
              "      <td>435.279461</td>\n",
              "      <td>8793.524470</td>\n",
              "    </tr>\n",
              "  </tbody>\n",
              "</table>\n",
              "</div>"
            ],
            "text/plain": [
              "   rel_per_gen  mne_per_gen   feo_per_gen\n",
              "0       0.0470   434.996454   9255.243700\n",
              "1       0.0380   432.469298  11380.771006\n",
              "2       0.0415   430.172691  10365.607006\n",
              "3       0.0415   434.257028  10464.024774\n",
              "4       0.0525   423.952381   8075.283447\n",
              "5       0.0480   415.979167   8666.232639\n",
              "6       0.0510   423.500000   8303.921569\n",
              "7       0.0400   433.170833  10829.270833\n",
              "8       0.0455   431.172161   9476.311235\n",
              "9       0.0495   435.279461   8793.524470"
            ]
          },
          "metadata": {
            "tags": []
          },
          "execution_count": 100
        }
      ]
    },
    {
      "cell_type": "code",
      "metadata": {
        "id": "zVVWBFxfR5Ov",
        "colab_type": "code",
        "colab": {}
      },
      "source": [
        ""
      ],
      "execution_count": 0,
      "outputs": []
    }
  ]
}